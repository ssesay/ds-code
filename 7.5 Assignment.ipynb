{
 "cells": [
  {
   "cell_type": "code",
   "execution_count": 102,
   "metadata": {},
   "outputs": [],
   "source": [
    "import numpy as np\n",
    "import pandas as pd \n",
    "import statistics as stat "
   ]
  },
  {
   "cell_type": "code",
   "execution_count": 103,
   "metadata": {},
   "outputs": [],
   "source": [
    "#Create empty Data Frame \n",
    "df = pd.DataFrame()"
   ]
  },
  {
   "cell_type": "code",
   "execution_count": 104,
   "metadata": {},
   "outputs": [],
   "source": [
    "#Set Dataframe of Brady Bunch kids \n",
    "df['names'] = ['Greg','Marcia','Peter','Jan','Bobby','Cindy','Oliver']\n",
    "df['ages'] = [14, 12, 11, 10, 8, 6, 8]"
   ]
  },
  {
   "cell_type": "code",
   "execution_count": 105,
   "metadata": {},
   "outputs": [],
   "source": [
    "# Central Tendencies Question 1 \n",
    "age_mean = np.mean(df['ages'])\n",
    "age_mode = stat.mode(df['ages'])\n",
    "age_median = np.median(df['ages'])\n",
    "\n",
    "#Variances, Standard Deviation (SD) and Standard Error (SE) Question 1 \n",
    "age_variance = np.var(df['ages'])\n",
    "age_SD = np.std(df['ages'], ddof=1)\n",
    "age_SE = np.std(df['ages'], ddof=1)/(np.sqrt(len(df['ages'])))"
   ]
  },
  {
   "cell_type": "code",
   "execution_count": 106,
   "metadata": {},
   "outputs": [
    {
     "name": "stdout",
     "output_type": "stream",
     "text": [
      " 9.857142857142858 mean \n",
      " 8 mode \n",
      " 10.0 median \n",
      " 6.408163265306122 variance \n",
      " 2.734262327610589 SD \n",
      " 1.0334540197243192 SE\n"
     ]
    }
   ],
   "source": [
    "#Output results Question 1 \n",
    "print(' {} mean \\n {} mode \\n {} median \\n {} variance \\n {} SD \\n {} SE'.format(age_mean, age_mode, age_median, age_variance, age_SD, age_SE))"
   ]
  },
  {
   "cell_type": "code",
   "execution_count": 110,
   "metadata": {},
   "outputs": [
    {
     "name": "stdout",
     "output_type": "stream",
     "text": [
      "   names  ages\n",
      "5  Cindy     7\n"
     ]
    }
   ],
   "source": [
    "#Question 2 - Set Cindy's new age \n",
    "df.iloc[5, 1] = 7\n",
    "\n",
    "print(df.loc[df['names'] == 'Cindy'])\n",
    "\n",
    "# Central Tendencies Question 2 \n",
    "age_mean = np.mean(df['ages'])\n",
    "age_mode = stat.mode(df['ages'])\n",
    "age_median = np.median(df['ages'])\n",
    "\n",
    "#Variances, Standard Deviation (SD) and Standard Error (SE) Question 2 \n",
    "age_variance = np.var(df['ages'])\n",
    "age_SD = np.std(df['ages'], ddof=1)\n",
    "age_SE = np.std(df['ages'], ddof=1)/(np.sqrt(len(df['ages'])))\n"
   ]
  },
  {
   "cell_type": "code",
   "execution_count": 111,
   "metadata": {},
   "outputs": [
    {
     "name": "stdout",
     "output_type": "stream",
     "text": [
      " 9.857142857142858 mean \n",
      " 7 mode \n",
      " 10.0 median \n",
      " 6.122448979591836 variance \n",
      " 2.6726124191242437 SD \n",
      " 1.0101525445522106 SE\n"
     ]
    }
   ],
   "source": [
    "# Output Question 2\n",
    "print(' {} mean \\n {} mode \\n {} median \\n {} variance \\n {} SD \\n {} SE'.format(age_mean, age_mode, age_median, age_variance, age_SD, age_SE))"
   ]
  },
  {
   "cell_type": "code",
   "execution_count": 121,
   "metadata": {},
   "outputs": [
    {
     "name": "stdout",
     "output_type": "stream",
     "text": [
      "     names  ages\n",
      "0     Greg    14\n",
      "1   Marcia    12\n",
      "2    Peter    11\n",
      "3      Jan    10\n",
      "4    Bobby     8\n",
      "5    Cindy     7\n",
      "6  Jessica     1\n"
     ]
    }
   ],
   "source": [
    "#Question 3 - update Oliver with Jessica\n",
    "df.iloc[6, 1] = 1\n",
    "df.iloc[6, 0] = 'Jessica'\n",
    "print(df)\n",
    "\n",
    "# Central Tendencies Question 3 \n",
    "age_mean = np.mean(df['ages'])\n",
    "try:\n",
    "    age_mode = stat.mode(df['ages'])\n",
    "except:\n",
    "    age_mode = 'All figures are unique for the'\n",
    "    \n",
    "age_median = np.median(df['ages'])\n",
    "\n",
    "#Variances, Standard Deviation (SD) and Standard Error (SE) Question 3\n",
    "age_variance = np.var(df['ages'])\n",
    "age_SD = np.std(df['ages'], ddof=1)\n",
    "age_SE = np.std(df['ages'], ddof=1)/(np.sqrt(len(df['ages'])))\n",
    "\n"
   ]
  },
  {
   "cell_type": "code",
   "execution_count": 122,
   "metadata": {},
   "outputs": [
    {
     "name": "stdout",
     "output_type": "stream",
     "text": [
      " 9.0 mean \n",
      " All figures are unique for the mode \n",
      " 10.0 median \n",
      " 15.428571428571429 variance \n",
      " 4.242640687119285 SD \n",
      " 1.6035674514745462 SE\n"
     ]
    }
   ],
   "source": [
    "# Output Question 3\n",
    "print(' {} mean \\n {} mode \\n {} median \\n {} variance \\n {} SD \\n {} SE'.format(age_mean, age_mode, age_median, age_variance, age_SD, age_SE))"
   ]
  },
  {
   "cell_type": "code",
   "execution_count": 124,
   "metadata": {},
   "outputs": [
    {
     "name": "stdout",
     "output_type": "stream",
     "text": [
      "     magazines  percent\n",
      "0     TV Guide     0.20\n",
      "1   Ent Weekly     0.23\n",
      "2  Pop Culture     0.17\n",
      "3       SciPhi     0.05\n"
     ]
    }
   ],
   "source": [
    "#Question 4 data frame \n",
    "df_2 = pd.DataFrame()\n",
    "df_2 ['magazines'] = ['TV Guide','Ent Weekly','Pop Culture','SciPhi']\n",
    "df_2 ['percent'] = [.20, .23, .17, .05]\n",
    "print(df_2)"
   ]
  },
  {
   "cell_type": "code",
   "execution_count": null,
   "metadata": {},
   "outputs": [],
   "source": [
    "# Mean, SD, SE Question 4\n",
    "percentage_Mean = df_2['percent'].mean()\n",
    "percentage_SD = np.std(df_2['percent'], ddof=1)\n",
    "percentage_SE = np.std(df_2['percent'], ddof=1)/(np.sqrt(len(df_2['percent'])))\n",
    "df_2.describe()"
   ]
  },
  {
   "cell_type": "code",
   "execution_count": 129,
   "metadata": {},
   "outputs": [
    {
     "name": "stdout",
     "output_type": "stream",
     "text": [
      "The percentage of adult Americans that were Brady Bunch fans were 16.250000000000004% +/- 0.03944933459514875\n"
     ]
    }
   ],
   "source": [
    "print('The percentage of adult Americans that were Brady Bunch fans were {}% +/- {}'.format(percentage_Mean*100, percentage_SE))"
   ]
  },
  {
   "cell_type": "code",
   "execution_count": null,
   "metadata": {},
   "outputs": [],
   "source": []
  }
 ],
 "metadata": {
  "kernelspec": {
   "display_name": "Python 3",
   "language": "python",
   "name": "python3"
  },
  "language_info": {
   "codemirror_mode": {
    "name": "ipython",
    "version": 3
   },
   "file_extension": ".py",
   "mimetype": "text/x-python",
   "name": "python",
   "nbconvert_exporter": "python",
   "pygments_lexer": "ipython3",
   "version": "3.7.4"
  }
 },
 "nbformat": 4,
 "nbformat_minor": 2
}
