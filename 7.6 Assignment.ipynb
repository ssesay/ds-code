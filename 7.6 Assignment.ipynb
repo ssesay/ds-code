{
 "cells": [
  {
   "cell_type": "code",
   "execution_count": 12,
   "metadata": {},
   "outputs": [
    {
     "name": "stdout",
     "output_type": "stream",
     "text": [
      "All three probabilities equal 0.0625\n"
     ]
    }
   ],
   "source": [
    "#Drill Set 1 \n",
    "\n",
    "#Question 1 \n",
    "HTTH = (1/2)**4 \n",
    "HHHH = (1/2)**4 \n",
    "TTHH = (1/2)**4 \n",
    "print('All three probabilities equal {}'.format(HTTH))"
   ]
  },
  {
   "cell_type": "code",
   "execution_count": 8,
   "metadata": {},
   "outputs": [],
   "source": [
    "#Question 2 - Answer is 24/45"
   ]
  },
  {
   "cell_type": "code",
   "execution_count": 9,
   "metadata": {},
   "outputs": [],
   "source": [
    "#Question 3 - P(A|P) = P(A) * P(B)"
   ]
  },
  {
   "cell_type": "code",
   "execution_count": 10,
   "metadata": {},
   "outputs": [
    {
     "name": "stdout",
     "output_type": "stream",
     "text": [
      "The answer to question 3 is 5e-06\n"
     ]
    }
   ],
   "source": [
    "prob_A = .1\n",
    "prob_B = .00005\n",
    "\n",
    "answer = prob_A * prob_B\n",
    "print('The answer to question 3 is {}'.format(answer))"
   ]
  },
  {
   "cell_type": "code",
   "execution_count": 11,
   "metadata": {},
   "outputs": [],
   "source": [
    "#Question 4 \n",
    "# The problem with the data is there is a bias. The survey is only given  \n",
    "# to a sample population that browses that specific website and click a link.\n",
    "# The conclusion doesnt take into account users who visit the website \n",
    "# and do not click a link but may view the homepage"
   ]
  },
  {
   "cell_type": "markdown",
   "metadata": {},
   "source": [
    "#Drill Set 2 \n",
    "\n",
    "#Question 1 \n",
    "answer_One = .98 *.005 + .1*.995\n",
    "\n",
    "#Question 2\n",
    "answer_Two = .98\n",
    "\n",
    "#Question 3 \n",
    "answer_Three = 1 -.1\n",
    "\n",
    "#Question 4\n",
    "answer_four = .1 "
   ]
  }
 ],
 "metadata": {
  "kernelspec": {
   "display_name": "Python 3",
   "language": "python",
   "name": "python3"
  },
  "language_info": {
   "codemirror_mode": {
    "name": "ipython",
    "version": 3
   },
   "file_extension": ".py",
   "mimetype": "text/x-python",
   "name": "python",
   "nbconvert_exporter": "python",
   "pygments_lexer": "ipython3",
   "version": "3.7.4"
  }
 },
 "nbformat": 4,
 "nbformat_minor": 2
}
